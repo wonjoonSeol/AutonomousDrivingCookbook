{
 "cells": [
  {
   "cell_type": "markdown",
   "metadata": {},
   "source": [
    "# Step 3 - Run the Model\n",
    "\n",
    "Now that we have finished training the model, we can use it to drive the car. Start the AirSim exectuable in a different window, and change the MODEL_FILENAME parameter to point to your downloaded weights. We have included a sample model in case you need it (please note that this is not a perfectly trained model and is only being provided to you as a reference)."
   ]
  },
  {
   "cell_type": "code",
   "execution_count": 7,
   "metadata": {},
   "outputs": [],
   "source": [
    "from Share.scripts_downpour.app.airsim_client import *\n",
    "from Share.scripts_downpour.app.rl_model import RlModel\n",
    "import numpy as np\n",
    "import time\n",
    "import sys\n",
    "import json\n",
    "import PIL\n",
    "import PIL.ImageFilter\n",
    "import datetime\n",
    "\n",
    "MODEL_FILENAME = 'sample_model.json' #Your model goes here"
   ]
  },
  {
   "cell_type": "markdown",
   "metadata": {},
   "source": [
    "First, we load the model from disk"
   ]
  },
  {
   "cell_type": "code",
   "execution_count": 8,
   "metadata": {
    "scrolled": false
   },
   "outputs": [
    {
     "name": "stdout",
     "output_type": "stream",
     "text": [
      "_________________________________________________________________\n",
      "Layer (type)                 Output Shape              Param #   \n",
      "=================================================================\n",
      "input_3 (InputLayer)         (None, 59, 255, 3)        0         \n",
      "_________________________________________________________________\n",
      "convolution0 (Conv2D)        (None, 59, 255, 16)       448       \n",
      "_________________________________________________________________\n",
      "max_pooling2d_7 (MaxPooling2 (None, 29, 127, 16)       0         \n",
      "_________________________________________________________________\n",
      "convolution1 (Conv2D)        (None, 29, 127, 32)       4640      \n",
      "_________________________________________________________________\n",
      "max_pooling2d_8 (MaxPooling2 (None, 14, 63, 32)        0         \n",
      "_________________________________________________________________\n",
      "convolution2 (Conv2D)        (None, 14, 63, 32)        9248      \n",
      "_________________________________________________________________\n",
      "max_pooling2d_9 (MaxPooling2 (None, 7, 31, 32)         0         \n",
      "_________________________________________________________________\n",
      "flatten_3 (Flatten)          (None, 6944)              0         \n",
      "_________________________________________________________________\n",
      "dropout_5 (Dropout)          (None, 6944)              0         \n",
      "_________________________________________________________________\n",
      "rl_dense (Dense)             (None, 128)               888960    \n",
      "_________________________________________________________________\n",
      "dropout_6 (Dropout)          (None, 128)               0         \n",
      "_________________________________________________________________\n",
      "rl_output (Dense)            (None, 5)                 645       \n",
      "=================================================================\n",
      "Total params: 903,941\n",
      "Trainable params: 889,605\n",
      "Non-trainable params: 14,336\n",
      "_________________________________________________________________\n",
      "Not loading weights\n"
     ]
    }
   ],
   "source": [
    "model = RlModel(None, False)\n",
    "with open(MODEL_FILENAME, 'r') as f:\n",
    "    checkpoint_data = json.loads(f.read())\n",
    "    model.from_packet(checkpoint_data['model'])"
   ]
  },
  {
   "cell_type": "markdown",
   "metadata": {},
   "source": [
    "Next, we connect to AirSim"
   ]
  },
  {
   "cell_type": "code",
   "execution_count": 9,
   "metadata": {},
   "outputs": [
    {
     "name": "stdout",
     "output_type": "stream",
     "text": [
      "Connecting to AirSim...\n",
      "Waiting for connection: \n",
      "Connected!\n"
     ]
    }
   ],
   "source": [
    "print('Connecting to AirSim...')\n",
    "car_client = CarClient()\n",
    "car_client.confirmConnection()\n",
    "car_client.enableApiControl(True)\n",
    "car_controls = CarControls()\n",
    "print('Connected!')"
   ]
  },
  {
   "cell_type": "markdown",
   "metadata": {},
   "source": [
    "Next, we define a helper function to obtain images from the simulator."
   ]
  },
  {
   "cell_type": "code",
   "execution_count": 10,
   "metadata": {},
   "outputs": [],
   "source": [
    "def get_image(car_client):\n",
    "    image_response = car_client.simGetImages([ImageRequest(0, AirSimImageType.Scene, False, False)])[0]\n",
    "    image1d = np.frombuffer(image_response.image_data_uint8, dtype=np.uint8)\n",
    "    image_rgba = image1d.reshape(image_response.height, image_response.width, 4)\n",
    "\n",
    "    return image_rgba[76:135,0:255,0:3].astype(float)"
   ]
  },
  {
   "cell_type": "markdown",
   "metadata": {},
   "source": [
    "Finally, we start the main loop to drive the car. "
   ]
  },
  {
   "cell_type": "code",
   "execution_count": null,
   "metadata": {},
   "outputs": [],
   "source": [
    "def append_to_ring_buffer(item, buffer, buffer_size):\n",
    "    if (len(buffer) >= buffer_size):\n",
    "        buffer = buffer[1:]\n",
    "    buffer.append(item)\n",
    "    return buffer\n",
    "\n",
    "state_buffer = []\n",
    "state_buffer_len = 4\n",
    "\n",
    "print('Running car for a few seconds...')\n",
    "car_controls.steering = 0\n",
    "car_controls.throttle = 1\n",
    "car_controls.brake = 0\n",
    "car_client.setCarControls(car_controls)\n",
    "stop_run_time =datetime.datetime.now() + datetime.timedelta(seconds=2)\n",
    "while(datetime.datetime.now() < stop_run_time):\n",
    "    time.sleep(0.01)\n",
    "    state_buffer = append_to_ring_buffer(get_image(car_client), state_buffer, state_buffer_len)\n",
    "\n",
    "print('Running model')\n",
    "while(True):\n",
    "    state_buffer = append_to_ring_buffer(get_image(car_client), state_buffer, state_buffer_len)\n",
    "    next_state, dummy = model.predict_state(state_buffer)\n",
    "    next_control_signal = model.state_to_control_signals(next_state, car_client.getCarState())\n",
    "\n",
    "    car_controls.steering = next_control_signal[0]\n",
    "    car_controls.throttle = next_control_signal[1]\n",
    "    car_controls.brake = next_control_signal[2]\n",
    "\n",
    "    print('State = {0}, steering = {1}, throttle = {2}, brake = {3}'.format(next_state, car_controls.steering, car_controls.throttle, car_controls.brake))\n",
    "\n",
    "    car_client.setCarControls(car_controls)\n",
    "\n",
    "    time.sleep(0.1)"
   ]
  },
  {
   "cell_type": "markdown",
   "metadata": {},
   "source": [
    "You should now see your car driving around using the model you just trained!"
   ]
  }
 ],
 "metadata": {
  "kernelspec": {
   "display_name": "Python 3",
   "language": "python",
   "name": "python3"
  },
  "language_info": {
   "codemirror_mode": {
    "name": "ipython",
    "version": 3
   },
   "file_extension": ".py",
   "mimetype": "text/x-python",
   "name": "python",
   "nbconvert_exporter": "python",
   "pygments_lexer": "ipython3",
   "version": "3.6.8"
  }
 },
 "nbformat": 4,
 "nbformat_minor": 2
}
